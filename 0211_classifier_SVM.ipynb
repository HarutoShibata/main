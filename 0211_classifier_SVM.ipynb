{
 "cells": [
  {
   "cell_type": "code",
   "execution_count": null,
   "metadata": {
    "scrolled": true
   },
   "outputs": [],
   "source": [
    "#!usr/bin/env python3\n",
    "\n",
    "import numpy as np\n",
    "import pandas as pd\n",
    "\n",
    "#pipeline\n",
    "from sklearn.pipeline import Pipeline\n",
    "\n",
    "#標準化→Standard Scaler\n",
    "from sklearn.preprocessing import StandardScaler\n",
    "\n",
    "#Support vector machine\n",
    "from sklearn.svm import SVC\n",
    "\n",
    "#RandomForest\n",
    "from sklearn.ensemble import RandomForestClassifier as RFC\n",
    "\n",
    "#XGBoost\n",
    "import xgboost as xgb\n",
    "XGB = xgb.XGBClassifier()\n",
    "\n",
    "#LightGBM\n",
    "import lightgbm as lgb\n",
    "LGB = lgb.LGBMClassifier(silent=False)\n",
    "\n",
    "#次元削減→PCA\n",
    "from sklearn.decomposition import PCA\n",
    "\n",
    "#特徴量選択→Gradient Boosting Classifier\n",
    "from sklearn.ensemble import GradientBoostingClassifier\n",
    "\n",
    "#特徴量選択→Recursive feature elimination\n",
    "from sklearn.feature_selection import RFE\n",
    "\n",
    "#特徴量選択→Select From Model\n",
    "from sklearn.feature_selection import SelectFromModel\n",
    "\n",
    "# GridSearch\n",
    "from sklearn.model_selection import GridSearchCV\n",
    "\n",
    "# Stratified k-fold cross-validation\n",
    "# Train test split\n",
    "# Cross val score\n",
    "# Cross val predict\n",
    "# KFold\n",
    "from sklearn.model_selection import StratifiedKFold, train_test_split, cross_val_score, cross_val_predict, KFold\n",
    "\n",
    "# 指標を計算するため\n",
    "from sklearn.metrics import accuracy_score, cohen_kappa_score, make_scorer, f1_score, recall_score\n",
    "\n",
    "# 特徴量重要度の計算 → Permutation imporatance\n",
    "import eli5\n",
    "from eli5.sklearn import PermutationImportance"
   ]
  },
  {
   "cell_type": "code",
   "execution_count": null,
   "metadata": {},
   "outputs": [],
   "source": [
    "# データの読み込み\n",
    "df=pd.read_csv('table.csv')\n",
    "\n",
    "#X yの設定\n",
    "#Xの.dropで行or列を削除、axis=1で行を削除と指定。削除する行の指定は'subject'で行う。\n",
    "X=df.drop('subject',axis=1) \n",
    "\n",
    "#yはdf内からsbmのみを取り出す。\n",
    "y=df.subject"
   ]
  },
  {
   "cell_type": "code",
   "execution_count": null,
   "metadata": {
    "scrolled": true
   },
   "outputs": [],
   "source": [
    "#初期データの特徴量一覧\n",
    "display(X.columns)"
   ]
  },
  {
   "cell_type": "code",
   "execution_count": null,
   "metadata": {},
   "outputs": [],
   "source": [
    "print(X)"
   ]
  },
  {
   "cell_type": "code",
   "execution_count": null,
   "metadata": {},
   "outputs": [],
   "source": [
    "#標準化\n",
    "std = StandardScaler()\n",
    "X_std = std.fit(X)\n",
    "print(X_std)"
   ]
  },
  {
   "cell_type": "code",
   "execution_count": null,
   "metadata": {},
   "outputs": [],
   "source": [
    "# モデル選択→SVC\n",
    "model = SVC()\n",
    "\n",
    "# K_fold : n=10\n",
    "kf = KFold(n_splits=10, shuffle=True, random_state=0)\n",
    "\n",
    "# パラメーター設定\n",
    "param_grid = [\n",
    "                        {'C': [1, 10, 100, 1000], \n",
    "                         'kernel': ['linear']},\n",
    "                        {'C': [1, 10, 100, 1000], \n",
    "                         'kernel': ['rbf'], 'gamma': [0.001, 0.0001]},\n",
    "                        {'C': [1, 10, 100, 1000],\n",
    "                         'kernel': ['poly'], 'degree': [2, 3, 4], 'gamma': [0.001, 0.0001]},\n",
    "                        {'C': [1, 10, 100, 1000],\n",
    "                         'kernel': ['sigmoid'], 'gamma': [0.001, 0.0001]}\n",
    "                         ]\n",
    "\n",
    "# パラメータチューニングをグリッドサーチ\n",
    "gs = GridSearchCV(estimator = model,\n",
    "                           param_grid = param_grid,\n",
    "                           scoring = 'accuracy', #accuracy\n",
    "                           cv = kf,\n",
    "                           return_train_score = True,\n",
    "                           n_jobs = -1)\n",
    "\n",
    "# Nested Cross validation：分割されたtrain dataごとにgrid searchした上で10-fold cross validationを実施\n",
    "y_pred = cross_val_predict(gs, X, y, cv=kf)\n",
    "conf_mat = confusion_matrix(y,y_pred)"
   ]
  },
  {
   "cell_type": "code",
   "execution_count": null,
   "metadata": {},
   "outputs": [],
   "source": [
    "# 結果\n",
    "print('Prediction：', y_pred)"
   ]
  },
  {
   "cell_type": "code",
   "execution_count": null,
   "metadata": {},
   "outputs": [],
   "source": [
    "# 精度（＝Accuracy)\n",
    "scores = accuracy_score(y, y_pred)\n",
    "print('Scores:', scores)"
   ]
  },
  {
   "cell_type": "code",
   "execution_count": null,
   "metadata": {},
   "outputs": [],
   "source": [
    "# 平均した精度\n",
    "average_score = scores.mean\n",
    "print('Avarage_score:', average_score)"
   ]
  },
  {
   "cell_type": "code",
   "execution_count": null,
   "metadata": {},
   "outputs": [],
   "source": [
    "#混合行列\n",
    "tn = []\n",
    "fp = []\n",
    "fn = []\n",
    "tp = []\n",
    "\n",
    "tn.append(confusion_matrix(y, y_pred)[0][0])\n",
    "fp.append(confusion_matrix(y, y_pred)[0][1])\n",
    "fn.append(confusion_matrix(y, y_pred)[1][0])\n",
    "tp.append(confusion_matrix(y, y_pred)[1][1])\n",
    "\n",
    "accuracy = ((np.array(tp)+np.array(tn))/(np.array(tp)+np.array(fp)+np.array(fn)+np.array(tn)))\n",
    "sensitivity = (np.array(tp)/(np.array(tp)+np.array(fn)))\n",
    "specificity = (np.array(tn)/(np.array(tn)+np.array(fp)))\n",
    "\n",
    "mean_accuracy = accuracy.mean()\n",
    "mean_sensitivity = sensitivity.mean()\n",
    "mean_specificity = specificity.mean()"
   ]
  },
  {
   "cell_type": "code",
   "execution_count": null,
   "metadata": {},
   "outputs": [],
   "source": [
    "print('Accuracy:', mean_accuracy)\n",
    "print('Sensitivity:', mean_sensitivity)\n",
    "print('specificity:', mean_specificity)"
   ]
  },
  {
   "cell_type": "code",
   "execution_count": null,
   "metadata": {},
   "outputs": [],
   "source": []
  }
 ],
 "metadata": {
  "kernelspec": {
   "display_name": "Python 3",
   "language": "python",
   "name": "python3"
  },
  "language_info": {
   "codemirror_mode": {
    "name": "ipython",
    "version": 3
   },
   "file_extension": ".py",
   "mimetype": "text/x-python",
   "name": "python",
   "nbconvert_exporter": "python",
   "pygments_lexer": "ipython3",
   "version": "3.9.0"
  }
 },
 "nbformat": 4,
 "nbformat_minor": 4
}
