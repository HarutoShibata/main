{
 "cells": [
  {
   "cell_type": "code",
   "execution_count": null,
   "metadata": {
    "scrolled": true
   },
   "outputs": [],
   "source": [
    "#!usr/bin/env python3\n",
    "\n",
    "import numpy as np\n",
    "import pandas as pd\n",
    "\n",
    "#pipeline\n",
    "from sklearn.pipeline import Pipeline\n",
    "\n",
    "#標準化→Standard Scaler\n",
    "from sklearn.preprocessing import StandardScaler\n",
    "\n",
    "#Support vector machine\n",
    "from sklearn.svm import SVC\n",
    "\n",
    "#RandomForest\n",
    "from sklearn.ensemble import RandomForestClassifier as RFC\n",
    "\n",
    "#XGBoost\n",
    "import xgboost as xgb\n",
    "XGB = xgb.XGBClassifier()\n",
    "\n",
    "#LightGBM\n",
    "import lightgbm as lgb\n",
    "LGB = lgb.LGBMClassifier(silent=False)\n",
    "\n",
    "#次元削減→PCA\n",
    "from sklearn.decomposition import PCA\n",
    "\n",
    "#特徴量選択→Gradient Boosting Classifier\n",
    "from sklearn.ensemble import GradientBoostingClassifier\n",
    "\n",
    "#特徴量選択→Recursive feature elimination\n",
    "from sklearn.feature_selection import RFE\n",
    "\n",
    "#特徴量選択→Select From Model\n",
    "from sklearn.feature_selection import SelectFromModel\n",
    "\n",
    "# GridSearch\n",
    "from sklearn.model_selection import GridSearchCV\n",
    "\n",
    "# Stratified k-fold cross-validation\n",
    "from sklearn.model_selection import StratifiedKFold\n",
    "\n",
    "# 指標を計算するため\n",
    "from sklearn.metrics import accuracy_score, cohen_kappa_score, make_scorer, f1_score, recall_score"
   ]
  },
  {
   "cell_type": "code",
   "execution_count": null,
   "metadata": {},
   "outputs": [],
   "source": [
    "# データの読み込み\n",
    "df=pd.read_csv('Table.csv')\n",
    "\n",
    "#X yの設定\n",
    "#Xの.dropで行or列を削除、axis=1で行を削除と指定。削除する行の指定は'subject'で行う。\n",
    "x=df.drop('subject',axis=1) \n",
    "\n",
    "#yはdf内からsbmのみを取り出す。\n",
    "y=df.subject"
   ]
  },
  {
   "cell_type": "code",
   "execution_count": null,
   "metadata": {
    "scrolled": true
   },
   "outputs": [],
   "source": [
    "# 初期データ形式\n",
    "print(x.shape)"
   ]
  },
  {
   "cell_type": "code",
   "execution_count": null,
   "metadata": {
    "scrolled": true
   },
   "outputs": [],
   "source": [
    "#初期データの特徴量一覧\n",
    "display(x.columns)"
   ]
  },
  {
   "cell_type": "code",
   "execution_count": null,
   "metadata": {},
   "outputs": [],
   "source": [
    "# パイプライン構築\n",
    "pipe = Pipeline([('preprocessing',None), ('feature_selection', None),\n",
    "                     ('pca', PCA(0.80)), ('classifier', None)])\n",
    "\n",
    "# パラメータ・モデルの設定\n",
    "#計算コストが膨大なので適宜pipeline側で処理、feature_selection, classifierの選択を行う。\n",
    "\n",
    "param_grid =[\n",
    "    {\n",
    "        'classifier':[SVC()], \n",
    "        'preprocessing':[StandardScaler(), None],\n",
    "        'feature_selection': [\n",
    "                RFE(GradientBoostingClassifier(\n",
    "                    learning_rate=0.01, min_samples_split=500, min_samples_leaf=17, max_depth=8,\n",
    "                    max_features=0.3, subsample=0.8, random_state=10, n_estimators=100),\n",
    "                    n_features_to_select=14),\n",
    "                SelectFromModel(GradientBoostingClassifier(\n",
    "                    learning_rate=0.01, min_samples_split=500, min_samples_leaf=17, max_depth=8,\n",
    "                    max_features=0.3, subsample=0.8, random_state=10, n_estimators=100),\n",
    "                    threshold=\"median\"),\n",
    "                RFE(RFC(n_estimators=20), n_features_to_select=14),\n",
    "                SelectFromModel(RFC(n_estimators=20), threshold=\"median\"),\n",
    "                None\n",
    "            ],\n",
    "        'classifier__kernel':['linear', 'rbf', 'poly', 'sigmoid'],\n",
    "        'classifier__C': [1, 10, 100, 1000], \n",
    "        'classifier__gamma': [0.001, 0.0001],\n",
    "        'classifier__degree': [2, 3, 4], \n",
    "    },\n",
    "    {\n",
    "        'classifier':[RFC()], \n",
    "        'preprocessing': [None], \n",
    "        'feature_selection': [\n",
    "                RFE(GradientBoostingClassifier(\n",
    "                    learning_rate=0.01, min_samples_split=500, min_samples_leaf=17, max_depth=8,\n",
    "                    max_features=0.3, subsample=0.8, random_state=10, n_estimators=100),\n",
    "                    n_features_to_select=14),\n",
    "                SelectFromModel(GradientBoostingClassifier(\n",
    "                    learning_rate=0.01, min_samples_split=500, min_samples_leaf=17, max_depth=8,\n",
    "                    max_features=0.3, subsample=0.8, random_state=10, n_estimators=100),\n",
    "                    threshold=\"median\"),\n",
    "                RFE(RFC(n_estimators=20), n_features_to_select=14),\n",
    "                SelectFromModel(RFC(n_estimators=20), threshold=\"median\"),\n",
    "                None\n",
    "            ],\n",
    "         'classifier__n_estimators':[100,500,1000], \n",
    "         'classifier__max_features': [1, 2, 3, 4, 5, 7, 10],\n",
    "         'classifier__max_depth': [3,5,7,10,15,None], \n",
    "         'classifier__min_samples_leaf':  [1, 2, 4],\n",
    "         'classifier__min_samples_split': [2, 5, 10]\n",
    "    },\n",
    "    {\n",
    "        'classifier':[XGB], \n",
    "        'preprocessing':[None],\n",
    "        'feature_selection': [\n",
    "                RFE(GradientBoostingClassifier(\n",
    "                    learning_rate=0.01, min_samples_split=500, min_samples_leaf=17, max_depth=8,\n",
    "                    max_features=0.3, subsample=0.8, random_state=10, n_estimators=100),\n",
    "                    n_features_to_select=14),\n",
    "                SelectFromModel(GradientBoostingClassifier(\n",
    "                    learning_rate=0.01, min_samples_split=500, min_samples_leaf=17, max_depth=8,\n",
    "                    max_features=0.3, subsample=0.8, random_state=10, n_estimators=100),\n",
    "                    threshold=\"median\"),\n",
    "                RFE(RFC(n_estimators=20), n_features_to_select=14),\n",
    "                SelectFromModel(RFC(n_estimators=20), threshold=\"median\"),\n",
    "                None\n",
    "            ],\n",
    "        'classifier__max_depth': [ 3, 6, 10,25], #10, 25,\n",
    "        'classifier__learning_rate' : [0.0001,0.001,0.01], # 0.05,0.1\n",
    "        'classifier__min_child_weight' : [1,3,6],\n",
    "        'classifier__n_estimators': [100,200,300], # 500\n",
    "        'classifier__subsample': [0.5,0.75,0.9],\n",
    "        'classifier__gamma':[0,0.1,0.2],\n",
    "        'classifier__eta': [0.3,0.15,0.10]\n",
    "    },\n",
    "    {\n",
    "        'classifier':[LGB], \n",
    "        'preprocessing':[None],\n",
    "        'feature_selection': [\n",
    "                RFE(GradientBoostingClassifier(\n",
    "                    learning_rate=0.01, min_samples_split=500, min_samples_leaf=17, max_depth=8,\n",
    "                    max_features=0.3, subsample=0.8, random_state=10, n_estimators=100),\n",
    "                    n_features_to_select=14),\n",
    "                SelectFromModel(GradientBoostingClassifier(\n",
    "                    learning_rate=0.01, min_samples_split=500, min_samples_leaf=17, max_depth=8,\n",
    "                    max_features=0.3, subsample=0.8, random_state=10, n_estimators=100),\n",
    "                    threshold=\"median\"),\n",
    "                RFE(RFC(n_estimators=20), n_features_to_select=14),\n",
    "                SelectFromModel(RFC(n_estimators=20), threshold=\"median\"),\n",
    "                None\n",
    "            ],\n",
    "        'classifier__max_depth': [10, 25, 50, 75],\n",
    "        'classifier__learning_rate' : [0.001,0.01,0.05,0.1],\n",
    "        'classifier__num_leaves': [100,300,900,1200],\n",
    "        'classifier__n_estimators': [100,200,500]\n",
    "    }\n",
    "]"
   ]
  },
  {
   "cell_type": "code",
   "execution_count": null,
   "metadata": {},
   "outputs": [],
   "source": [
    "#層化k分割交差検証　n_splits=10のため 1/10 * 10回での検討\n",
    "skf = StratifiedKFold(n_splits=10,\n",
    "                      shuffle=True,\n",
    "                      random_state=0)"
   ]
  },
  {
   "cell_type": "code",
   "execution_count": null,
   "metadata": {
    "scrolled": true
   },
   "outputs": [],
   "source": [
    "%%time\n",
    "\n",
    "# パラメータチューニングをグリッドサーチ\n",
    "gs = GridSearchCV(estimator = pipe,\n",
    "                           param_grid = param_grid,\n",
    "                           scoring = 'accuracy', \n",
    "                           cv = skf,\n",
    "                           return_train_score = True,\n",
    "                           n_jobs = -1)\n",
    "\n",
    "gs.fit(x, y)"
   ]
  },
  {
   "cell_type": "code",
   "execution_count": null,
   "metadata": {},
   "outputs": [],
   "source": [
    "#ベストな分類器の抽出\n",
    "print(gs.best_estimator_)"
   ]
  },
  {
   "cell_type": "code",
   "execution_count": null,
   "metadata": {},
   "outputs": [],
   "source": [
    "#ベストなパラメータの抽出\n",
    "print(gs.best_params_)"
   ]
  },
  {
   "cell_type": "code",
   "execution_count": null,
   "metadata": {
    "scrolled": true
   },
   "outputs": [],
   "source": [
    "#ベストな精度の抽出\n",
    "print(gs.best_score_)"
   ]
  },
  {
   "cell_type": "code",
   "execution_count": null,
   "metadata": {},
   "outputs": [],
   "source": [
    "#x_test, y_testはexternal validation評価のため外部データを使用する。\n",
    "\n",
    "#グリッドサーチで検索したベストな分類器で外部データの精度を評価する。\n",
    "clf=gs.best_estimator_\n",
    "print(clf.score(x_test, y_test))"
   ]
  }
 ],
 "metadata": {
  "kernelspec": {
   "display_name": "Python 3",
   "language": "python",
   "name": "python3"
  },
  "language_info": {
   "codemirror_mode": {
    "name": "ipython",
    "version": 3
   },
   "file_extension": ".py",
   "mimetype": "text/x-python",
   "name": "python",
   "nbconvert_exporter": "python",
   "pygments_lexer": "ipython3",
   "version": "3.9.0"
  }
 },
 "nbformat": 4,
 "nbformat_minor": 4
}
