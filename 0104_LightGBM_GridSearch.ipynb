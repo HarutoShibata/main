{
 "cells": [
  {
   "cell_type": "code",
   "execution_count": null,
   "metadata": {},
   "outputs": [],
   "source": [
    "import numpy as np\n",
    "import pandas as pd\n",
    "\n",
    "# Stratified k-fold cross-validation\n",
    "from sklearn.model_selection import StratifiedKFold\n",
    "# RandomForest\n",
    "from sklearn.ensemble import RandomForestClassifier\n",
    "# CatBoost\n",
    "from catboost import CatBoostClassifier\n",
    "# LightGBM\n",
    "import lightgbm as lgb\n",
    "# XGBoost\n",
    "import xgboost as xgb\n",
    "from sklearn.model_selection import GridSearchCV\n",
    "\n",
    "# 指標を計算するため\n",
    "from sklearn.metrics import accuracy_score, cohen_kappa_score, make_scorer, f1_score, recall_score\n",
    "\n",
    "# 見た目を綺麗にするため\n",
    "import matplotlib.pyplot as plt\n",
    "import pprint, pydotplus"
   ]
  },
  {
   "cell_type": "code",
   "execution_count": null,
   "metadata": {},
   "outputs": [],
   "source": [
    "# データの読み込み\n",
    "df=pd.read_csv('Table.csv')\n",
    "\n",
    "#X yの設定\n",
    "#X：.dropで行or列を削除、axis=1で行を削除と指定。'Subject'の行を除外する。\n",
    "X=df.drop('subject',axis=1) \n",
    "\n",
    "#y：df内からSubjectの行のみを取り出す。\n",
    "y=df.subject"
   ]
  },
  {
   "cell_type": "code",
   "execution_count": null,
   "metadata": {},
   "outputs": [],
   "source": [
    "#層化k分割交差検証　n_splits=10のため 1/10 * 10回での検討\n",
    "skf = StratifiedKFold(n_splits=10,\n",
    "                      shuffle=True,\n",
    "                      random_state=0)"
   ]
  },
  {
   "cell_type": "code",
   "execution_count": null,
   "metadata": {},
   "outputs": [],
   "source": [
    "%%time\n",
    "\n",
    "# モデル選択→LightGBM\n",
    "model = lgb.LGBMClassifier(silent=False)\n",
    "\n",
    "# パラメーターを設定する\n",
    "param_grid = {\"max_depth\": [10, 25, 50, 75],\n",
    "              \"learning_rate\" : [0.001,0.01,0.05,0.1],\n",
    "              \"num_leaves\": [100,300,900,1200],\n",
    "              \"n_estimators\": [100,200,500]\n",
    "             }\n",
    "\n",
    "# パラメータチューニングをグリッドサーチで行うために設定する\n",
    "grid_result = GridSearchCV(estimator = model,\n",
    "                           param_grid = param_grid,\n",
    "                           scoring = 'accuracy',\n",
    "                           cv = skf,\n",
    "                           verbose=3,\n",
    "                           return_train_score = True,\n",
    "                           n_jobs = -1)\n",
    "\n",
    "grid_result.fit(X, y)"
   ]
  },
  {
   "cell_type": "code",
   "execution_count": null,
   "metadata": {},
   "outputs": [],
   "source": [
    "#ベストな分類器を抽出\n",
    "pprint.pprint(grid_result.best_estimator_)"
   ]
  },
  {
   "cell_type": "code",
   "execution_count": null,
   "metadata": {
    "scrolled": false
   },
   "outputs": [],
   "source": [
    "#ベストなパラメータを抽出\n",
    "pprint.pprint(grid_result.best_params_)"
   ]
  },
  {
   "cell_type": "code",
   "execution_count": null,
   "metadata": {
    "scrolled": true
   },
   "outputs": [],
   "source": [
    "#ベストな正解率を抽出\n",
    "pprint.pprint(grid_result.best_score_)"
   ]
  }
 ],
 "metadata": {
  "kernelspec": {
   "display_name": "Python 3",
   "language": "python",
   "name": "python3"
  },
  "language_info": {
   "codemirror_mode": {
    "name": "ipython",
    "version": 3
   },
   "file_extension": ".py",
   "mimetype": "text/x-python",
   "name": "python",
   "nbconvert_exporter": "python",
   "pygments_lexer": "ipython3",
   "version": "3.9.0"
  }
 },
 "nbformat": 4,
 "nbformat_minor": 4
}
