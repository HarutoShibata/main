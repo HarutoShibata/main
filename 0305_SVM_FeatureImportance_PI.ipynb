{
 "cells": [
  {
   "cell_type": "code",
   "execution_count": null,
   "metadata": {
    "scrolled": true
   },
   "outputs": [],
   "source": [
    "import numpy as np\n",
    "import pandas as pd\n",
    "import eli5\n",
    "\n",
    "# Stratified k-fold cross-validation\n",
    "from sklearn.model_selection import StratifiedKFold, cross_val_score\n",
    "\n",
    "# Support vector machine\n",
    "from sklearn.svm import SVC\n",
    "\n",
    "# GridSearch\n",
    "from sklearn.model_selection import GridSearchCV\n",
    "\n",
    "# sem\n",
    "from scipy.stats import sem\n",
    "\n",
    "# 指標を計算するため\n",
    "from sklearn.metrics import accuracy_score, cohen_kappa_score, make_scorer, f1_score, recall_score\n",
    "\n",
    "# Permutation Importance\n",
    "from eli5.sklearn import PermutationImportance"
   ]
  },
  {
   "cell_type": "code",
   "execution_count": null,
   "metadata": {},
   "outputs": [],
   "source": [
    "# データの読み込み\n",
    "df=pd.read_csv('Table_Tch_all_data.csv')\n",
    "\n",
    "#X yの設定\n",
    "#Xの.dropで行or列を削除、axis=1で行を削除と指定。削除する行の指定は'subject'で行う。\n",
    "x=df.drop('group',axis=1) \n",
    "\n",
    "#yはdf内からgroupのみを取り出す。\n",
    "y=df.group"
   ]
  },
  {
   "cell_type": "code",
   "execution_count": null,
   "metadata": {},
   "outputs": [],
   "source": [
    "# 標準化\n",
    "from sklearn.preprocessing import StandardScaler\n",
    "stdsc = StandardScaler()\n",
    "\n",
    "# 訓練用のデータを標準化\n",
    "X = stdsc.fit_transform(x)\n",
    "\n",
    "# label設定\n",
    "label = df.columns[1:]"
   ]
  },
  {
   "cell_type": "code",
   "execution_count": null,
   "metadata": {},
   "outputs": [],
   "source": [
    "#層化k分割交差検証　n_splits=10のため 1/10 * 10回での検討\n",
    "skf = StratifiedKFold(n_splits=10, shuffle=True, random_state=0)"
   ]
  },
  {
   "cell_type": "code",
   "execution_count": null,
   "metadata": {
    "scrolled": true
   },
   "outputs": [],
   "source": [
    "%%time  \n",
    "\n",
    "clf = SVC(C=200, degree=2, gamma=0.0018, kernel='poly')\n",
    "\n",
    "perm = PermutationImportance(clf, cv=skf)\n",
    "perm.fit(X, y)\n",
    "\n",
    "eli5.show_weights(perm, feature_names = label.tolist())"
   ]
  },
  {
   "cell_type": "code",
   "execution_count": null,
   "metadata": {},
   "outputs": [],
   "source": [
    "scores = cross_val_score(clf, X, y, cv=skf)\n",
    "\n",
    "# 各分割におけるスコア\n",
    "print('Cross-Validation scores: {}'.format(scores))\n",
    "\n",
    "# スコアの平均値\n",
    "print('Average score: {}'.format(np.mean(scores)))"
   ]
  }
 ],
 "metadata": {
  "kernelspec": {
   "display_name": "Python 3",
   "language": "python",
   "name": "python3"
  },
  "language_info": {
   "codemirror_mode": {
    "name": "ipython",
    "version": 3
   },
   "file_extension": ".py",
   "mimetype": "text/x-python",
   "name": "python",
   "nbconvert_exporter": "python",
   "pygments_lexer": "ipython3",
   "version": "3.9.0"
  }
 },
 "nbformat": 4,
 "nbformat_minor": 4
}
