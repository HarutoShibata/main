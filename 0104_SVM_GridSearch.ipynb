{
 "cells": [
  {
   "cell_type": "code",
   "execution_count": null,
   "metadata": {
    "scrolled": true
   },
   "outputs": [],
   "source": [
    "import numpy as np\n",
    "import pandas as pd\n",
    "\n",
    "# Stratified k-fold cross-validation\n",
    "from sklearn.model_selection import StratifiedKFold\n",
    "\n",
    "# Support vector machine\n",
    "from sklearn.svm import SVC\n",
    "\n",
    "# GridSearch\n",
    "from sklearn.model_selection import GridSearchCV\n",
    "\n",
    "# 指標を計算するため\n",
    "from sklearn.metrics import accuracy_score, cohen_kappa_score, make_scorer, f1_score, recall_score\n",
    "\n",
    "# 見た目を綺麗にするため\n",
    "import matplotlib.pyplot as plt\n",
    "import pprint, pydotplus\n"
   ]
  },
  {
   "cell_type": "code",
   "execution_count": null,
   "metadata": {},
   "outputs": [],
   "source": [
    "# データの読み込み\n",
    "df=pd.read_csv('Table.csv')\n",
    "\n",
    "#X yの設定\n",
    "#Xの.dropで行or列を削除、axis=1で行を削除と指定。削除する行の指定は'group'で行う。\n",
    "x=df.drop('group',axis=1) \n",
    "\n",
    "#yはdf内からsbmのみを取り出す。\n",
    "y=df.group"
   ]
  },
  {
   "cell_type": "code",
   "execution_count": null,
   "metadata": {},
   "outputs": [],
   "source": [
    "# 標準化\n",
    "from sklearn.preprocessing import StandardScaler\n",
    "stdsc = StandardScaler()\n",
    "\n",
    "# 訓練用のデータを標準化\n",
    "X = stdsc.fit_transform(x)"
   ]
  },
  {
   "cell_type": "code",
   "execution_count": null,
   "metadata": {},
   "outputs": [],
   "source": [
    "#層化k分割交差検証　n_splits=10のため 1/10 * 10回での検討\n",
    "skf = StratifiedKFold(n_splits=10,\n",
    "                      shuffle=True,\n",
    "                      random_state=0)"
   ]
  },
  {
   "cell_type": "code",
   "execution_count": null,
   "metadata": {
    "scrolled": true
   },
   "outputs": [],
   "source": [
    "%%time\n",
    "\n",
    "# モデル選択\n",
    "model = SVC()\n",
    "\n",
    "# パラメーター設定\n",
    "param_grid = [\n",
    "                        {'C': [1, 10, 100, 1000], \n",
    "                         'kernel': ['linear']},\n",
    "                        {'C': [1, 10, 100, 1000], \n",
    "                         'kernel': ['rbf'], 'gamma': [0.001, 0.0001]},\n",
    "                        {'C': [1, 10, 100, 1000],\n",
    "                         'kernel': ['poly'], 'degree': [2, 3, 4], 'gamma': [0.001, 0.0001]},\n",
    "                        {'C': [1, 10, 100, 1000],\n",
    "                         'kernel': ['sigmoid'], 'gamma': [0.001, 0.0001]}\n",
    "                         ]\n",
    "\n",
    "# パラメータチューニングをグリッドサーチ\n",
    "grid_result = GridSearchCV(estimator = model,\n",
    "                           param_grid = param_grid,\n",
    "                           scoring = 'accuracy',\n",
    "                           cv = skf,\n",
    "                           return_train_score = True,\n",
    "                           n_jobs = -1)\n",
    "\n",
    "grid_result.fit(X, y)"
   ]
  },
  {
   "cell_type": "code",
   "execution_count": null,
   "metadata": {},
   "outputs": [],
   "source": [
    "#ベストな分類器の抽出\n",
    "pprint.pprint(grid_result.best_estimator_)"
   ]
  },
  {
   "cell_type": "code",
   "execution_count": null,
   "metadata": {
    "scrolled": true
   },
   "outputs": [],
   "source": [
    "#ベストなパラメータの抽出\n",
    "pprint.pprint(grid_result.best_params_)"
   ]
  },
  {
   "cell_type": "code",
   "execution_count": null,
   "metadata": {
    "scrolled": true
   },
   "outputs": [],
   "source": [
    "#ベストな精度の抽出\n",
    "pprint.pprint(grid_result.best_score_)"
   ]
  },
  {
   "cell_type": "code",
   "execution_count": null,
   "metadata": {},
   "outputs": [],
   "source": []
  }
 ],
 "metadata": {
  "kernelspec": {
   "display_name": "Python 3",
   "language": "python",
   "name": "python3"
  },
  "language_info": {
   "codemirror_mode": {
    "name": "ipython",
    "version": 3
   },
   "file_extension": ".py",
   "mimetype": "text/x-python",
   "name": "python",
   "nbconvert_exporter": "python",
   "pygments_lexer": "ipython3",
   "version": "3.9.0"
  }
 },
 "nbformat": 4,
 "nbformat_minor": 4
}
